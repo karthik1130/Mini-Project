{
 "cells": [
  {
   "cell_type": "code",
   "execution_count": 2,
   "id": "aaa13052-4580-4199-b95c-7d10a993ace1",
   "metadata": {},
   "outputs": [
    {
     "name": "stdout",
     "output_type": "stream",
     "text": [
      "  Primary energy  Consumption*  Unnamed: 1  Unnamed: 2  Unnamed: 3  \\\n",
      "0                          NaN         NaN         NaN         NaN   \n",
      "1                    Exajoules     2013.00     2014.00     2015.00   \n",
      "2                       Canada       14.40       14.43       14.47   \n",
      "3                       Mexico        8.07        8.03        7.94   \n",
      "4                           US       92.62       93.59       92.69   \n",
      "\n",
      "   Unnamed: 4  Unnamed: 5  Unnamed: 6  Unnamed: 7  Unnamed: 8  Unnamed: 9  \\\n",
      "0         NaN         NaN         NaN         NaN         NaN         NaN   \n",
      "1     2016.00     2017.00     2018.00     2019.00     2020.00     2021.00   \n",
      "2       14.34       14.54       14.72       14.64       13.76       13.92   \n",
      "3        8.11        8.26        8.15        8.07        7.35        7.83   \n",
      "4       92.62       92.97       96.37       95.68       88.64       93.44   \n",
      "\n",
      "   Unnamed: 10  Unnamed: 11            Unnamed: 12 Unnamed: 13 Unnamed: 14  \n",
      "0          NaN          NaN  Growth rate per annum         NaN       Share  \n",
      "1      2022.00      2023.00                   2023     2013–23        2023  \n",
      "2        14.30        13.95                 -0.024      -0.003       0.023  \n",
      "3         8.18         8.45                  0.033       0.005       0.014  \n",
      "4        95.42        94.28                 -0.012       0.002       0.152  \n"
     ]
    }
   ],
   "source": [
    "import pandas as pd\n",
    "df=pd.read_excel(r\"C:\\Users\\KARTHIKEYA\\Desktop\\Mini Project\\Main.xlsx\")\n",
    "print(df.head())B"
   ]
  }
 ],
 "metadata": {
  "kernelspec": {
   "display_name": "Python 3 (ipykernel)",
   "language": "python",
   "name": "python3"
  },
  "language_info": {
   "codemirror_mode": {
    "name": "ipython",
    "version": 3
   },
   "file_extension": ".py",
   "mimetype": "text/x-python",
   "name": "python",
   "nbconvert_exporter": "python",
   "pygments_lexer": "ipython3",
   "version": "3.12.0"
  }
 },
 "nbformat": 4,
 "nbformat_minor": 5
}
